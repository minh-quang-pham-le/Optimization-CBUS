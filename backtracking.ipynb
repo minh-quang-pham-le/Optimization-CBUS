{
 "cells": [
  {
   "cell_type": "markdown",
   "metadata": {},
   "source": [
    "#### IT3052E - Fundamentals of Optimization"
   ]
  },
  {
   "cell_type": "markdown",
   "metadata": {},
   "source": [
    "# **Mini Project - CBUS**"
   ]
  },
  {
   "cell_type": "markdown",
   "metadata": {},
   "source": [
    "### **Backtracking**"
   ]
  },
  {
   "cell_type": "markdown",
   "metadata": {},
   "source": [
    "#### 1. Read test cases"
   ]
  },
  {
   "cell_type": "code",
   "execution_count": 1,
   "metadata": {},
   "outputs": [],
   "source": [
    "from readinput import read_multiple_test_cases\n",
    "file_path = 'input.txt'\n",
    "test_cases = read_multiple_test_cases(file_path)"
   ]
  },
  {
   "cell_type": "markdown",
   "metadata": {},
   "source": [
    "#### 2. Functions"
   ]
  },
  {
   "cell_type": "code",
   "execution_count": 2,
   "metadata": {},
   "outputs": [],
   "source": [
    "def check(v, k):\n",
    "    if appear[v]:  # điểm đã được sử dụng\n",
    "        return False\n",
    "    if v <= n:  # điểm đón\n",
    "        if q >= Q:  # xe đã đầy\n",
    "            return False\n",
    "    else:  # điểm trả (v > n)\n",
    "        if not appear[v - n]:  # chưa đón khách tương ứng\n",
    "            return False\n",
    "    return True\n",
    "\n",
    "def get_cost(route):\n",
    "    total = 0\n",
    "    prev = 0  # Điểm xuất phát\n",
    "    for point in route:\n",
    "        total += c[prev][point]\n",
    "        prev = point\n",
    "    total += c[prev][0]  # Quay về điểm xuất phát\n",
    "    return total\n",
    "\n",
    "def Try(k):\n",
    "    global min_cost, best_solution, q\n",
    "    for v in range(1, 2 * n + 1):\n",
    "        if check(v, k):\n",
    "            X[k] = v\n",
    "            appear[v] = True\n",
    "            if v <= n:  # đón khách\n",
    "                q += 1\n",
    "            else:  # trả khách\n",
    "                q -= 1\n",
    "\n",
    "            if k == 2 * n:  # đã xếp đủ điểm đón và trả\n",
    "                current_cost = get_cost(X[1:2*n+1])\n",
    "                if current_cost < min_cost:\n",
    "                    min_cost = current_cost\n",
    "                    best_solution = X[1:2*n+1].copy()\n",
    "            else:\n",
    "                Try(k + 1)\n",
    "\n",
    "            appear[v] = False\n",
    "            if v <= n:\n",
    "                q -= 1\n",
    "            else:\n",
    "                q += 1\n",
    "\n",
    "def solve_test_case(n, Q, cost_matrix):\n",
    "    global c, X, appear, min_cost, best_solution, q\n",
    "    c = cost_matrix\n",
    "\n",
    "    # Khởi tạo các biến\n",
    "    X = [None] * (2 * n + 1)\n",
    "    q = 0  # số khách hiện tại trên xe\n",
    "    appear = [False] * (2 * n + 1)\n",
    "    min_cost = float('inf')\n",
    "    best_solution = None\n",
    "\n",
    "    # Chạy thuật toán\n",
    "    Try(1)\n",
    "    return min_cost, best_solution"
   ]
  },
  {
   "cell_type": "markdown",
   "metadata": {},
   "source": [
    "#### 3. Output"
   ]
  },
  {
   "cell_type": "code",
   "execution_count": 3,
   "metadata": {},
   "outputs": [
    {
     "name": "stdout",
     "output_type": "stream",
     "text": [
      "Test case 1:\n",
      "n = 3, Q = 2\n",
      "Cost matrix:\n",
      "[0, 8, 5, 1, 10, 5, 9]\n",
      "[9, 0, 5, 6, 6, 2, 8]\n",
      "[2, 2, 0, 3, 8, 7, 2]\n",
      "[5, 3, 4, 0, 3, 2, 7]\n",
      "[9, 6, 8, 7, 0, 9, 10]\n",
      "[3, 8, 10, 6, 5, 0, 2]\n",
      "[3, 4, 4, 5, 2, 2, 0]\n",
      "\n",
      "Min cost: 25\n",
      "Best route: 3 1 4 2 6 5\n",
      "Calculation time: 0.00 seconds\n",
      "\n",
      "Test case 2:\n",
      "n = 5, Q = 3\n",
      "Cost matrix:\n",
      "[0, 2, 3, 4, 2, 3, 4, 5, 3, 8, 7]\n",
      "[5, 0, 1, 4, 6, 1, 4, 2, 9, 8, 2]\n",
      "[1, 2, 0, 4, 2, 3, 4, 5, 3, 6, 2]\n",
      "[2, 2, 3, 0, 2, 3, 4, 5, 3, 8, 4]\n",
      "[5, 2, 3, 4, 0, 3, 4, 5, 3, 9, 7]\n",
      "[1, 2, 3, 1, 2, 0, 4, 2, 2, 8, 2]\n",
      "[2, 2, 3, 4, 2, 3, 0, 5, 3, 2, 7]\n",
      "[3, 2, 3, 6, 2, 3, 4, 0, 3, 1, 1]\n",
      "[5, 2, 3, 4, 2, 3, 4, 5, 0, 8, 7]\n",
      "[1, 2, 3, 5, 2, 3, 4, 5, 3, 0, 9]\n",
      "[8, 2, 3, 4, 2, 3, 4, 5, 3, 2, 0]\n",
      "\n",
      "Min cost: 24\n",
      "Best route: 2 5 3 8 1 7 10 4 6 9\n",
      "Calculation time: 0.23 seconds\n",
      "\n",
      "Test case 3:\n",
      "n = 5, Q = 3\n",
      "Cost matrix:\n",
      "[0, 5, 8, 11, 12, 8, 3, 3, 7, 5, 5]\n",
      "[5, 0, 3, 5, 7, 5, 3, 4, 2, 2, 2]\n",
      "[8, 3, 0, 7, 8, 8, 5, 7, 1, 6, 5]\n",
      "[11, 5, 7, 0, 1, 5, 9, 8, 6, 5, 6]\n",
      "[12, 7, 8, 1, 0, 6, 10, 10, 7, 7, 7]\n",
      "[8, 5, 8, 5, 6, 0, 8, 5, 7, 3, 4]\n",
      "[3, 3, 5, 9, 10, 8, 0, 3, 4, 5, 4]\n",
      "[3, 4, 7, 8, 10, 5, 3, 0, 6, 2, 2]\n",
      "[7, 2, 1, 6, 7, 7, 4, 6, 0, 5, 4]\n",
      "[5, 2, 6, 5, 7, 3, 5, 2, 5, 0, 1]\n",
      "[5, 2, 5, 6, 7, 4, 4, 2, 4, 1, 0]\n",
      "\n",
      "Min cost: 37\n",
      "Best route: 5 4 3 9 10 1 2 8 6 7\n",
      "Calculation time: 0.22 seconds\n",
      "\n",
      "Test case 4:\n",
      "n = 8, Q = 1\n",
      "Cost matrix:\n",
      "[0, 8, 5, 1, 10, 5, 9, 9, 3, 5, 6, 6, 2, 8, 2, 2, 6]\n",
      "[3, 0, 7, 2, 5, 3, 4, 3, 3, 2, 7, 9, 6, 8, 7, 2, 9]\n",
      "[10, 3, 0, 10, 6, 5, 4, 2, 3, 4, 4, 5, 2, 2, 4, 9, 8]\n",
      "[5, 3, 8, 0, 10, 4, 2, 10, 9, 7, 6, 1, 3, 9, 7, 1, 3]\n",
      "[5, 9, 7, 6, 0, 10, 1, 1, 7, 2, 4, 9, 10, 4, 5, 5, 7]\n",
      "[1, 7, 7, 2, 9, 0, 10, 7, 4, 8, 9, 9, 3, 10, 2, 4, 6]\n",
      "[10, 9, 5, 1, 8, 7, 0, 7, 2, 6, 5, 3, 1, 10, 8, 4, 8]\n",
      "[3, 7, 1, 2, 7, 6, 8, 0, 5, 2, 3, 1, 1, 2, 5, 7, 1]\n",
      "[8, 2, 8, 8, 8, 8, 4, 4, 0, 10, 10, 9, 2, 9, 3, 7, 7]\n",
      "[1, 4, 9, 1, 2, 3, 6, 1, 10, 0, 8, 9, 4, 6, 2, 3, 1]\n",
      "[2, 7, 5, 1, 7, 2, 9, 10, 9, 5, 0, 5, 4, 10, 9, 9, 1]\n",
      "[9, 8, 8, 9, 4, 9, 4, 8, 2, 1, 8, 0, 5, 10, 7, 6, 2]\n",
      "[1, 10, 10, 7, 9, 4, 5, 9, 5, 10, 10, 3, 0, 6, 4, 4, 4]\n",
      "[8, 5, 4, 9, 1, 9, 9, 1, 7, 9, 2, 10, 9, 0, 8, 3, 3]\n",
      "[9, 3, 9, 10, 1, 8, 9, 2, 6, 9, 7, 2, 3, 5, 0, 6, 9]\n",
      "[7, 3, 7, 6, 4, 10, 3, 5, 7, 2, 9, 3, 2, 2, 10, 0, 7]\n",
      "[3, 10, 6, 3, 1, 1, 4, 10, 2, 9, 2, 10, 6, 4, 3, 6, 0]\n",
      "\n",
      "Min cost: 68\n",
      "Best route: 2 10 3 11 8 16 5 13 7 15 6 14 1 9 4 12\n",
      "Calculation time: 0.44 seconds\n",
      "\n",
      "Test case 5:\n",
      "n = 9, Q = 4\n",
      "Cost matrix:\n",
      "[0, 8, 5, 1, 10, 5, 9, 9, 3, 5, 6, 6, 2, 8, 2, 2, 6, 3, 8]\n",
      "[7, 0, 5, 3, 4, 3, 3, 2, 7, 9, 6, 8, 7, 2, 9, 10, 3, 8, 10]\n",
      "[6, 5, 0, 2, 3, 4, 4, 5, 2, 2, 4, 9, 8, 5, 3, 8, 8, 10, 4]\n",
      "[2, 10, 9, 0, 6, 1, 3, 9, 7, 1, 3, 5, 9, 7, 6, 1, 10, 1, 1]\n",
      "[7, 2, 4, 9, 0, 4, 5, 5, 7, 1, 7, 7, 2, 9, 5, 10, 7, 4, 8]\n",
      "[9, 9, 3, 10, 2, 0, 6, 10, 9, 5, 1, 8, 7, 4, 7, 2, 6, 5, 3]\n",
      "[1, 10, 8, 4, 8, 3, 0, 1, 2, 7, 6, 8, 6, 5, 2, 3, 1, 1, 2]\n",
      "[5, 7, 1, 8, 2, 8, 8, 0, 8, 4, 4, 6, 10, 10, 9, 2, 9, 3, 7]\n",
      "[7, 1, 4, 9, 1, 2, 3, 6, 0, 10, 5, 8, 9, 4, 6, 2, 3, 1, 2]\n",
      "[7, 5, 1, 7, 2, 9, 10, 9, 5, 0, 5, 4, 10, 9, 9, 1, 9, 8, 8]\n",
      "[9, 4, 9, 4, 8, 2, 1, 8, 4, 5, 0, 7, 6, 2, 1, 10, 10, 7, 9]\n",
      "[4, 5, 9, 5, 10, 10, 3, 6, 6, 4, 4, 0, 8, 5, 4, 9, 1, 9, 9]\n",
      "[1, 7, 9, 2, 10, 9, 10, 8, 3, 3, 9, 3, 0, 10, 1, 8, 9, 2, 6]\n",
      "[9, 7, 2, 3, 5, 3, 6, 9, 7, 3, 7, 6, 4, 0, 3, 5, 7, 2, 9]\n",
      "[3, 2, 2, 10, 8, 7, 3, 10, 6, 3, 1, 1, 4, 10, 0, 9, 2, 10, 6]\n",
      "[4, 3, 6, 3, 6, 9, 7, 8, 8, 3, 3, 10, 5, 2, 10, 0, 10, 9, 3]\n",
      "[6, 6, 5, 10, 2, 3, 6, 1, 9, 4, 10, 4, 10, 7, 8, 10, 0, 8, 7]\n",
      "[10, 4, 6, 8, 7, 7, 6, 9, 3, 6, 5, 5, 2, 7, 2, 7, 4, 0, 6]\n",
      "[6, 4, 3, 9, 3, 6, 4, 7, 2, 9, 7, 3, 2, 5, 7, 3, 10, 2, 0]\n",
      "\n"
     ]
    }
   ],
   "source": [
    "import time\n",
    "\n",
    "for idx, (n, Q, cost_matrix) in enumerate(test_cases, 1):\n",
    "    print(f\"Test case {idx}:\")\n",
    "    print(f\"n = {n}, Q = {Q}\")\n",
    "    print(f\"Cost matrix:\")\n",
    "    for row in cost_matrix:\n",
    "        print(row)\n",
    "    print()\n",
    "    start_time = time.time()\n",
    "    min_cost, best_solution = solve_test_case(n, Q, cost_matrix)\n",
    "    end_time = time.time()\n",
    "    print(f\"Min cost: {min_cost}\")\n",
    "    print(f\"Best route: {' '.join(map(str, best_solution))}\")\n",
    "    print(f\"Calculation time: {end_time - start_time:.2f} seconds\")\n",
    "    print()"
   ]
  }
 ],
 "metadata": {
  "kernelspec": {
   "display_name": "base",
   "language": "python",
   "name": "python3"
  },
  "language_info": {
   "codemirror_mode": {
    "name": "ipython",
    "version": 3
   },
   "file_extension": ".py",
   "mimetype": "text/x-python",
   "name": "python",
   "nbconvert_exporter": "python",
   "pygments_lexer": "ipython3",
   "version": "3.12.4"
  }
 },
 "nbformat": 4,
 "nbformat_minor": 2
}
